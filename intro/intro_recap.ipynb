{
 "cells": [
  {
   "cell_type": "code",
   "execution_count": 3,
   "metadata": {},
   "outputs": [],
   "source": [
    "import torch\n",
    "from torch import nn\n"
   ]
  },
  {
   "cell_type": "code",
   "execution_count": 4,
   "metadata": {},
   "outputs": [],
   "source": [
    "# device-agnostic code\n",
    "device = 'cuda' if torch.cuda.is_available() else 'cpu'\n"
   ]
  },
  {
   "cell_type": "code",
   "execution_count": 5,
   "metadata": {},
   "outputs": [],
   "source": [
    "# create dummy data\n",
    "weight: float = 0.7\n",
    "bias: float = 0.3\n",
    "\n",
    "x: torch.Tensor = torch.arange(start=0, end=1, step=0.02, device=device).unsqueeze(dim=1)\n",
    "y: torch.Tensor = weight * x + bias\n",
    "\n",
    "splitter = int(len(x) * 0.8)\n",
    "x_train = x[:splitter]\n",
    "y_train = y[:splitter]\n",
    "x_test = x[splitter:]\n",
    "y_test = y[splitter:]\n"
   ]
  },
  {
   "cell_type": "code",
   "execution_count": 6,
   "metadata": {},
   "outputs": [],
   "source": [
    "class LinearRegressionModel(nn.Module):\n",
    "\tdef __init__(self) -> None:\n",
    "\t\tsuper().__init__()\n",
    "\n",
    "\t\t# takes 1 feature, outputs 1 value\n",
    "\t\tself.linear_layer = nn.Linear(in_features=1, out_features=1)\n",
    "\n",
    "\n",
    "\tdef forward(self, X: torch.Tensor) -> torch.Tensor:\n",
    "\t\treturn self.linear_layer(X)\n"
   ]
  },
  {
   "cell_type": "code",
   "execution_count": 7,
   "metadata": {},
   "outputs": [
    {
     "data": {
      "text/plain": [
       "OrderedDict([('linear_layer.weight', tensor([[0.7645]], device='cuda:0')),\n",
       "             ('linear_layer.bias', tensor([0.8300], device='cuda:0'))])"
      ]
     },
     "execution_count": 7,
     "metadata": {},
     "output_type": "execute_result"
    }
   ],
   "source": [
    "torch.manual_seed(42)\n",
    "\n",
    "model = LinearRegressionModel()\n",
    "model.to(device=device)\n",
    "\n",
    "model.state_dict()\n"
   ]
  },
  {
   "cell_type": "code",
   "execution_count": 8,
   "metadata": {},
   "outputs": [],
   "source": [
    "loss_fn = nn.L1Loss()\n",
    "\n",
    "optimizer = torch.optim.Adam(params=model.parameters(), lr=0.001)\n"
   ]
  },
  {
   "cell_type": "code",
   "execution_count": 9,
   "metadata": {},
   "outputs": [
    {
     "name": "stdout",
     "output_type": "stream",
     "text": [
      "epoch = 010\tlss = 0.543\ttstlss = 0.569\n",
      "epoch = 020\tlss = 0.529\ttstlss = 0.550\n",
      "epoch = 030\tlss = 0.515\ttstlss = 0.531\n",
      "epoch = 040\tlss = 0.501\ttstlss = 0.512\n",
      "epoch = 050\tlss = 0.487\ttstlss = 0.493\n",
      "epoch = 060\tlss = 0.473\ttstlss = 0.474\n",
      "epoch = 070\tlss = 0.459\ttstlss = 0.455\n",
      "epoch = 080\tlss = 0.445\ttstlss = 0.436\n",
      "epoch = 090\tlss = 0.431\ttstlss = 0.417\n",
      "epoch = 100\tlss = 0.418\ttstlss = 0.398\n",
      "epoch = 110\tlss = 0.404\ttstlss = 0.380\n",
      "epoch = 120\tlss = 0.390\ttstlss = 0.361\n",
      "epoch = 130\tlss = 0.376\ttstlss = 0.342\n",
      "epoch = 140\tlss = 0.362\ttstlss = 0.323\n",
      "epoch = 150\tlss = 0.348\ttstlss = 0.304\n",
      "epoch = 160\tlss = 0.334\ttstlss = 0.285\n",
      "epoch = 170\tlss = 0.320\ttstlss = 0.266\n",
      "epoch = 180\tlss = 0.306\ttstlss = 0.247\n",
      "epoch = 190\tlss = 0.292\ttstlss = 0.228\n",
      "epoch = 200\tlss = 0.279\ttstlss = 0.209\n",
      "epoch = 210\tlss = 0.265\ttstlss = 0.191\n",
      "epoch = 220\tlss = 0.251\ttstlss = 0.172\n",
      "epoch = 230\tlss = 0.237\ttstlss = 0.153\n",
      "epoch = 240\tlss = 0.223\ttstlss = 0.134\n",
      "epoch = 250\tlss = 0.209\ttstlss = 0.115\n",
      "epoch = 260\tlss = 0.195\ttstlss = 0.096\n",
      "epoch = 270\tlss = 0.181\ttstlss = 0.077\n",
      "epoch = 280\tlss = 0.167\ttstlss = 0.058\n",
      "epoch = 290\tlss = 0.153\ttstlss = 0.039\n",
      "epoch = 300\tlss = 0.140\ttstlss = 0.021\n",
      "epoch = 310\tlss = 0.126\ttstlss = 0.012\n",
      "epoch = 320\tlss = 0.112\ttstlss = 0.019\n",
      "epoch = 330\tlss = 0.098\ttstlss = 0.036\n",
      "epoch = 340\tlss = 0.088\ttstlss = 0.053\n",
      "epoch = 350\tlss = 0.080\ttstlss = 0.068\n",
      "epoch = 360\tlss = 0.075\ttstlss = 0.079\n",
      "epoch = 370\tlss = 0.072\ttstlss = 0.088\n",
      "epoch = 380\tlss = 0.069\ttstlss = 0.095\n",
      "epoch = 390\tlss = 0.067\ttstlss = 0.100\n",
      "epoch = 400\tlss = 0.065\ttstlss = 0.105\n",
      "epoch = 410\tlss = 0.064\ttstlss = 0.108\n",
      "epoch = 420\tlss = 0.063\ttstlss = 0.110\n",
      "epoch = 430\tlss = 0.062\ttstlss = 0.112\n",
      "epoch = 440\tlss = 0.061\ttstlss = 0.114\n",
      "epoch = 450\tlss = 0.060\ttstlss = 0.114\n",
      "epoch = 460\tlss = 0.059\ttstlss = 0.115\n",
      "epoch = 470\tlss = 0.058\ttstlss = 0.115\n",
      "epoch = 480\tlss = 0.057\ttstlss = 0.114\n",
      "epoch = 490\tlss = 0.056\ttstlss = 0.113\n",
      "epoch = 500\tlss = 0.055\ttstlss = 0.113\n",
      "epoch = 510\tlss = 0.054\ttstlss = 0.112\n",
      "epoch = 520\tlss = 0.053\ttstlss = 0.111\n",
      "epoch = 530\tlss = 0.052\ttstlss = 0.110\n",
      "epoch = 540\tlss = 0.052\ttstlss = 0.108\n",
      "epoch = 550\tlss = 0.051\ttstlss = 0.106\n",
      "epoch = 560\tlss = 0.050\ttstlss = 0.104\n",
      "epoch = 570\tlss = 0.049\ttstlss = 0.101\n",
      "epoch = 580\tlss = 0.048\ttstlss = 0.100\n",
      "epoch = 590\tlss = 0.047\ttstlss = 0.097\n",
      "epoch = 600\tlss = 0.046\ttstlss = 0.096\n",
      "epoch = 610\tlss = 0.045\ttstlss = 0.093\n",
      "epoch = 620\tlss = 0.044\ttstlss = 0.091\n",
      "epoch = 630\tlss = 0.043\ttstlss = 0.089\n",
      "epoch = 640\tlss = 0.042\ttstlss = 0.087\n",
      "epoch = 650\tlss = 0.041\ttstlss = 0.085\n",
      "epoch = 660\tlss = 0.040\ttstlss = 0.083\n",
      "epoch = 670\tlss = 0.039\ttstlss = 0.081\n",
      "epoch = 680\tlss = 0.038\ttstlss = 0.079\n",
      "epoch = 690\tlss = 0.037\ttstlss = 0.077\n",
      "epoch = 700\tlss = 0.036\ttstlss = 0.074\n",
      "epoch = 710\tlss = 0.035\ttstlss = 0.072\n",
      "epoch = 720\tlss = 0.034\ttstlss = 0.070\n",
      "epoch = 730\tlss = 0.032\ttstlss = 0.068\n",
      "epoch = 740\tlss = 0.031\ttstlss = 0.065\n",
      "epoch = 750\tlss = 0.030\ttstlss = 0.063\n",
      "epoch = 760\tlss = 0.029\ttstlss = 0.061\n",
      "epoch = 770\tlss = 0.028\ttstlss = 0.058\n",
      "epoch = 780\tlss = 0.027\ttstlss = 0.056\n",
      "epoch = 790\tlss = 0.026\ttstlss = 0.054\n",
      "epoch = 800\tlss = 0.025\ttstlss = 0.051\n",
      "epoch = 810\tlss = 0.024\ttstlss = 0.049\n",
      "epoch = 820\tlss = 0.022\ttstlss = 0.047\n",
      "epoch = 830\tlss = 0.021\ttstlss = 0.044\n",
      "epoch = 840\tlss = 0.020\ttstlss = 0.042\n",
      "epoch = 850\tlss = 0.019\ttstlss = 0.039\n",
      "epoch = 860\tlss = 0.018\ttstlss = 0.037\n",
      "epoch = 870\tlss = 0.017\ttstlss = 0.034\n",
      "epoch = 880\tlss = 0.015\ttstlss = 0.032\n",
      "epoch = 890\tlss = 0.014\ttstlss = 0.029\n",
      "epoch = 900\tlss = 0.013\ttstlss = 0.027\n",
      "epoch = 910\tlss = 0.012\ttstlss = 0.024\n",
      "epoch = 920\tlss = 0.010\ttstlss = 0.022\n",
      "epoch = 930\tlss = 0.009\ttstlss = 0.019\n",
      "epoch = 940\tlss = 0.008\ttstlss = 0.016\n",
      "epoch = 950\tlss = 0.007\ttstlss = 0.014\n",
      "epoch = 960\tlss = 0.005\ttstlss = 0.011\n",
      "epoch = 970\tlss = 0.004\ttstlss = 0.009\n",
      "epoch = 980\tlss = 0.003\ttstlss = 0.006\n",
      "epoch = 990\tlss = 0.002\ttstlss = 0.003\n",
      "epoch = 1000\tlss = 0.000\ttstlss = 0.000\n"
     ]
    }
   ],
   "source": [
    "epochs = 1000\n",
    "for epoch in range(1, epochs+1):\n",
    "\tmodel.train()\n",
    "\n",
    "\ty_pred = model(x_train)\n",
    "\n",
    "\tloss = loss_fn(y_pred, y_train)\n",
    "\n",
    "\toptimizer.zero_grad()\n",
    "\n",
    "\tloss.backward()\n",
    "\n",
    "\toptimizer.step()\n",
    "\n",
    "\n",
    "\tmodel.eval()\n",
    "\twith torch.inference_mode():\n",
    "\t\ty_pred_test = model(x_test)\n",
    "\t\ttest_loss = loss_fn(y_pred_test, y_test)\n",
    "\n",
    "\tlss = loss.item()\n",
    "\ttstlss = test_loss.item()\n",
    "\tprint(f'{epoch = :0>3}\\t{lss = :.3f}\\t{tstlss = :.3f}') if not epoch%10 else ...\n"
   ]
  },
  {
   "cell_type": "code",
   "execution_count": 10,
   "metadata": {},
   "outputs": [
    {
     "data": {
      "text/plain": [
       "8.689544677734375"
      ]
     },
     "execution_count": 10,
     "metadata": {},
     "output_type": "execute_result"
    }
   ],
   "source": [
    "x = 12\n",
    "model(torch.tensor([x]).type(torch.float32).to(device)).item()\n"
   ]
  },
  {
   "cell_type": "code",
   "execution_count": 14,
   "metadata": {},
   "outputs": [
    {
     "data": {
      "text/plain": [
       "<matplotlib.collections.PathCollection at 0x7f54a5c28990>"
      ]
     },
     "execution_count": 14,
     "metadata": {},
     "output_type": "execute_result"
    },
    {
     "data": {
      "image/png": "[encoded data removed]",
      "text/plain": [
       "<Figure size 640x480 with 1 Axes>"
      ]
     },
     "metadata": {},
     "output_type": "display_data"
    }
   ],
   "source": [
    "import matplotlib.pyplot as plt\n",
    "\n",
    "plt.scatter(x_train.cpu(), y_train.cpu(), s=12)\n",
    "plt.scatter(x_test.cpu(), y_test.cpu(), s=30)\n",
    "plt.scatter(x_test.cpu(), y_pred_test.cpu(), s=9)\n"
   ]
  }
 ],
 "metadata": {
  "kernelspec": {
   "display_name": "venv",
   "language": "python",
   "name": "python3"
  },
  "language_info": {
   "codemirror_mode": {
    "name": "ipython",
    "version": 3
   },
   "file_extension": ".py",
   "mimetype": "text/x-python",
   "name": "python",
   "nbconvert_exporter": "python",
   "pygments_lexer": "ipython3",
   "version": "3.11.2"
  }
 },
 "nbformat": 4,
 "nbformat_minor": 2
}
