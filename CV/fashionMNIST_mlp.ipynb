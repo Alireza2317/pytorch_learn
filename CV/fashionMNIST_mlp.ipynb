{
 "cells": [
  {
   "cell_type": "code",
   "execution_count": 81,
   "metadata": {},
   "outputs": [],
   "source": [
    "import torch\n",
    "import torchvision\n",
    "\n",
    "import matplotlib.pyplot as plt\n",
    "from torch import nn\n",
    "\n",
    "from torchvision import datasets\n",
    "from torchvision import transforms\n",
    "from sklearn.metrics import accuracy_score\n"
   ]
  },
  {
   "cell_type": "code",
   "execution_count": 221,
   "metadata": {},
   "outputs": [],
   "source": [
    "device = 'cuda' if torch.cuda.is_available() else 'cpu'\n"
   ]
  },
  {
   "cell_type": "code",
   "execution_count": 82,
   "metadata": {},
   "outputs": [],
   "source": [
    "# torchvision.transforms, help with converting image to numbers\n",
    "# torch.utils.data.Dataset, base dataset class\n",
    "# torch.utils.data.DataLoader, creates python iterable over a dataset\n"
   ]
  },
  {
   "cell_type": "code",
   "execution_count": 83,
   "metadata": {},
   "outputs": [],
   "source": [
    "train_data = datasets.FashionMNIST(\n",
    "\troot='datasets/',\n",
    "\ttrain=True,\n",
    "\tdownload=False,\n",
    "\ttransform=transforms.ToTensor(),\n",
    "\ttarget_transform=None\n",
    ")\n",
    "\n",
    "test_data = datasets.FashionMNIST(\n",
    "\troot='datasets/',\n",
    "\ttrain=False,\n",
    "\tdownload=False,\n",
    "\ttransform=transforms.ToTensor(),\n",
    "\ttarget_transform=None\n",
    ")\n"
   ]
  },
  {
   "cell_type": "code",
   "execution_count": 222,
   "metadata": {},
   "outputs": [],
   "source": [
    "X_train, y_train = (train_data.data / 255).to(device), train_data.targets.to(device)\n",
    "X_test, y_test = (test_data.data / 255).to(device), test_data.targets.to(device)\n",
    "\n",
    "X_train = X_train.type(torch.float).reshape((60000, -1)).requires_grad_(True)\n",
    "X_test = X_test.type(torch.float).reshape((10000, -1))\n"
   ]
  },
  {
   "cell_type": "code",
   "execution_count": 244,
   "metadata": {},
   "outputs": [],
   "source": [
    "torch.manual_seed(23)\n",
    "model = nn.Sequential(\n",
    "\tnn.Linear(in_features=784, out_features=32),\n",
    "\tnn.Sigmoid(),\n",
    "\tnn.Linear(in_features=32, out_features=32),\n",
    "\tnn.Sigmoid(),\n",
    "\tnn.Linear(in_features=32, out_features=32),\n",
    "\tnn.Sigmoid(),\n",
    "\tnn.Linear(in_features=32, out_features=10)\n",
    ").to(device)\n"
   ]
  },
  {
   "cell_type": "code",
   "execution_count": 246,
   "metadata": {},
   "outputs": [
    {
     "name": "stdout",
     "output_type": "stream",
     "text": [
      "epoch = 50\tloss = 0.457\ttest_loss = 0.504\t accuracy = 82.37%\n",
      "epoch = 100\tloss = 0.442\ttest_loss = 0.490\t accuracy = 83.57%\n",
      "epoch = 150\tloss = 0.481\ttest_loss = 0.511\t accuracy = 82.06%\n",
      "epoch = 200\tloss = 0.438\ttest_loss = 0.477\t accuracy = 83.37%\n",
      "epoch = 250\tloss = 0.462\ttest_loss = 0.508\t accuracy = 82.86%\n",
      "epoch = 300\tloss = 0.433\ttest_loss = 0.482\t accuracy = 83.12%\n",
      "epoch = 350\tloss = 0.435\ttest_loss = 0.485\t accuracy = 83.77%\n",
      "epoch = 400\tloss = 0.415\ttest_loss = 0.464\t accuracy = 84.26%\n",
      "epoch = 450\tloss = 0.412\ttest_loss = 0.461\t accuracy = 84.09%\n",
      "epoch = 500\tloss = 0.417\ttest_loss = 0.463\t accuracy = 84.27%\n",
      "epoch = 550\tloss = 0.416\ttest_loss = 0.457\t accuracy = 84.07%\n",
      "epoch = 600\tloss = 0.410\ttest_loss = 0.455\t accuracy = 84.06%\n",
      "epoch = 650\tloss = 0.436\ttest_loss = 0.488\t accuracy = 82.99%\n",
      "epoch = 700\tloss = 0.405\ttest_loss = 0.455\t accuracy = 84.53%\n",
      "epoch = 750\tloss = 0.459\ttest_loss = 0.490\t accuracy = 82.55%\n",
      "epoch = 800\tloss = 0.404\ttest_loss = 0.450\t accuracy = 84.26%\n",
      "epoch = 850\tloss = 0.434\ttest_loss = 0.504\t accuracy = 82.17%\n",
      "epoch = 900\tloss = 0.398\ttest_loss = 0.453\t accuracy = 84.62%\n",
      "epoch = 950\tloss = 0.393\ttest_loss = 0.442\t accuracy = 84.74%\n",
      "epoch = 1000\tloss = 0.391\ttest_loss = 0.439\t accuracy = 84.63%\n",
      "epoch = 1050\tloss = 0.382\ttest_loss = 0.435\t accuracy = 84.65%\n",
      "epoch = 1100\tloss = 0.375\ttest_loss = 0.428\t accuracy = 84.98%\n",
      "epoch = 1150\tloss = 0.383\ttest_loss = 0.433\t accuracy = 85.14%\n",
      "epoch = 1200\tloss = 0.380\ttest_loss = 0.433\t accuracy = 84.91%\n",
      "epoch = 1250\tloss = 0.375\ttest_loss = 0.427\t accuracy = 85.07%\n",
      "epoch = 1300\tloss = 0.374\ttest_loss = 0.428\t accuracy = 85.01%\n",
      "epoch = 1350\tloss = 0.434\ttest_loss = 0.475\t accuracy = 83.23%\n",
      "epoch = 1400\tloss = 0.383\ttest_loss = 0.431\t accuracy = 84.94%\n",
      "epoch = 1450\tloss = 0.369\ttest_loss = 0.422\t accuracy = 85.29%\n",
      "epoch = 1500\tloss = 0.390\ttest_loss = 0.434\t accuracy = 84.78%\n",
      "epoch = 1550\tloss = 0.371\ttest_loss = 0.423\t accuracy = 85.18%\n",
      "epoch = 1600\tloss = 0.364\ttest_loss = 0.419\t accuracy = 85.39%\n",
      "epoch = 1650\tloss = 0.362\ttest_loss = 0.414\t accuracy = 85.65%\n",
      "epoch = 1700\tloss = 0.363\ttest_loss = 0.418\t accuracy = 85.48%\n",
      "epoch = 1750\tloss = 0.360\ttest_loss = 0.415\t accuracy = 85.60%\n",
      "epoch = 1800\tloss = 0.352\ttest_loss = 0.407\t accuracy = 85.78%\n",
      "epoch = 1850\tloss = 0.358\ttest_loss = 0.414\t accuracy = 85.51%\n",
      "epoch = 1900\tloss = 0.356\ttest_loss = 0.413\t accuracy = 85.71%\n",
      "epoch = 1950\tloss = 0.347\ttest_loss = 0.404\t accuracy = 85.93%\n",
      "epoch = 2000\tloss = 0.354\ttest_loss = 0.412\t accuracy = 85.62%\n",
      "epoch = 2050\tloss = 0.352\ttest_loss = 0.410\t accuracy = 85.72%\n",
      "epoch = 2100\tloss = 0.344\ttest_loss = 0.401\t accuracy = 85.95%\n",
      "epoch = 2150\tloss = 0.350\ttest_loss = 0.410\t accuracy = 85.78%\n",
      "epoch = 2200\tloss = 0.348\ttest_loss = 0.407\t accuracy = 85.86%\n",
      "epoch = 2250\tloss = 0.344\ttest_loss = 0.402\t accuracy = 85.77%\n",
      "epoch = 2300\tloss = 0.349\ttest_loss = 0.409\t accuracy = 85.79%\n",
      "epoch = 2350\tloss = 0.344\ttest_loss = 0.405\t accuracy = 85.90%\n",
      "epoch = 2400\tloss = 0.361\ttest_loss = 0.413\t accuracy = 85.50%\n",
      "epoch = 2450\tloss = 0.350\ttest_loss = 0.410\t accuracy = 85.72%\n",
      "epoch = 2500\tloss = 0.341\ttest_loss = 0.404\t accuracy = 85.95%\n",
      "epoch = 2550\tloss = 0.437\ttest_loss = 0.473\t accuracy = 83.32%\n",
      "epoch = 2600\tloss = 0.351\ttest_loss = 0.412\t accuracy = 85.68%\n",
      "epoch = 2650\tloss = 0.337\ttest_loss = 0.402\t accuracy = 85.95%\n",
      "epoch = 2700\tloss = 0.396\ttest_loss = 0.460\t accuracy = 83.89%\n",
      "epoch = 2750\tloss = 0.340\ttest_loss = 0.405\t accuracy = 85.82%\n",
      "epoch = 2800\tloss = 0.334\ttest_loss = 0.400\t accuracy = 85.98%\n",
      "epoch = 2850\tloss = 0.344\ttest_loss = 0.409\t accuracy = 85.44%\n",
      "epoch = 2900\tloss = 0.326\ttest_loss = 0.393\t accuracy = 86.17%\n",
      "epoch = 2950\tloss = 0.331\ttest_loss = 0.398\t accuracy = 86.01%\n",
      "epoch = 3000\tloss = 0.331\ttest_loss = 0.398\t accuracy = 85.98%\n"
     ]
    }
   ],
   "source": [
    "loss_fn = nn.CrossEntropyLoss()\n",
    "optimizer = torch.optim.SGD(params=model.parameters(), lr=0.5)\n",
    "\n",
    "epochs = 3000\n",
    "for epoch in range(1, 1+epochs):\n",
    "\tmodel.train()\n",
    "\tpreds = model(X_train)\n",
    "\tloss = loss_fn(preds, y_train)\n",
    "\toptimizer.zero_grad()\n",
    "\tloss.backward()\n",
    "\toptimizer.step()\n",
    "\n",
    "\tmodel.eval()\n",
    "\twith torch.inference_mode():\n",
    "\t\ttest_preds = model(X_test)\n",
    "\t\ttest_loss = loss_fn(test_preds, y_test)\n",
    "\t\tacc = accuracy_score(y_test.cpu(), test_preds.cpu().argmax(dim=1))*100\n",
    "\n",
    "\tif epoch%50 == 0:\n",
    "\t\tprint(f'{epoch = }\\t{loss = :.3f}\\t{test_loss = :.3f}\\t accuracy = {acc:.2f}%')\n"
   ]
  },
  {
   "cell_type": "code",
   "execution_count": 260,
   "metadata": {},
   "outputs": [
    {
     "name": "stdout",
     "output_type": "stream",
     "text": [
      "tensor([6, 6, 2], device='cuda:0')\n",
      "tensor([2, 4, 4], device='cuda:0')\n",
      "Coat\n",
      "Shirt\n"
     ]
    },
    {
     "data": {
      "image/png": "[encoded data removed]",
      "text/plain": [
       "<Figure size 640x480 with 1 Axes>"
      ]
     },
     "metadata": {},
     "output_type": "display_data"
    }
   ],
   "source": [
    "print(test_preds[49:52].argmax(dim=1))\n",
    "print(y_test[49:52])\n",
    "\n",
    "plt.imshow(X_test[50].reshape((28,28)).cpu(), cmap='gray', vmin=0, vmax=1)\n",
    "print(test_data.classes[y_test[50]])\n",
    "print(test_data.classes[test_preds[50].argmax()])\n"
   ]
  }
 ],
 "metadata": {
  "kernelspec": {
   "display_name": "venv",
   "language": "python",
   "name": "python3"
  },
  "language_info": {
   "codemirror_mode": {
    "name": "ipython",
    "version": 3
   },
   "file_extension": ".py",
   "mimetype": "text/x-python",
   "name": "python",
   "nbconvert_exporter": "python",
   "pygments_lexer": "ipython3",
   "version": "3.11.2"
  }
 },
 "nbformat": 4,
 "nbformat_minor": 2
}
