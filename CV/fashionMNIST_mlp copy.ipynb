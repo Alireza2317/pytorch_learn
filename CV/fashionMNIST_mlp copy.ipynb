{
 "cells": [
  {
   "cell_type": "code",
   "execution_count": 14,
   "metadata": {},
   "outputs": [],
   "source": [
    "import torch\n",
    "\n",
    "from tqdm.auto import tqdm\n",
    "\n",
    "import matplotlib.pyplot as plt\n",
    "from torch import nn\n",
    "from torch.utils.data import DataLoader\n",
    "from torchvision import datasets\n",
    "from torchvision import transforms\n",
    "from sklearn.metrics import accuracy_score\n"
   ]
  },
  {
   "cell_type": "code",
   "execution_count": 15,
   "metadata": {},
   "outputs": [],
   "source": [
    "device = 'cuda' if torch.cuda.is_available() else 'cpu'\n"
   ]
  },
  {
   "cell_type": "code",
   "execution_count": 16,
   "metadata": {},
   "outputs": [],
   "source": [
    "# torchvision.transforms, help with converting image to numbers\n",
    "# torch.utils.data.Dataset, base dataset class\n",
    "# torch.utils.data.DataLoader, creates python iterable over a dataset\n"
   ]
  },
  {
   "cell_type": "code",
   "execution_count": 17,
   "metadata": {},
   "outputs": [],
   "source": [
    "train_data = datasets.FashionMNIST(\n",
    "\troot='datasets/',\n",
    "\ttrain=True,\n",
    "\tdownload=False,\n",
    "\ttransform=transforms.ToTensor(),\n",
    "\ttarget_transform=None\n",
    ")\n",
    "\n",
    "test_data = datasets.FashionMNIST(\n",
    "\troot='datasets/',\n",
    "\ttrain=False,\n",
    "\tdownload=False,\n",
    "\ttransform=transforms.ToTensor(),\n",
    "\ttarget_transform=None\n",
    ")\n"
   ]
  },
  {
   "cell_type": "code",
   "execution_count": 18,
   "metadata": {},
   "outputs": [],
   "source": [
    "BATCH_SIZE = 32\n",
    "\n",
    "train_dl = DataLoader(dataset=train_data, batch_size=BATCH_SIZE, shuffle=True)\n",
    "test_dl = DataLoader(dataset=test_data, batch_size=BATCH_SIZE, shuffle=False)\n"
   ]
  },
  {
   "cell_type": "code",
   "execution_count": 23,
   "metadata": {},
   "outputs": [],
   "source": [
    "class FashionMNISTModel(nn.Module):\n",
    "\tdef __init__(self, inputs, hiddens, outputs):\n",
    "\t\tsuper().__init__()\n",
    "\n",
    "\t\tself.layer_stack = nn.Sequential(\n",
    "\t\t\tnn.Flatten(),\n",
    "\t\t\tnn.Linear(in_features=inputs, out_features=hiddens),\n",
    "\t\t\tnn.ReLU(),\n",
    "\t\t\tnn.Linear(in_features=hiddens, out_features=hiddens),\n",
    "\t\t\tnn.ReLU(),\n",
    "\t\t\tnn.Linear(in_features=hiddens, out_features=outputs),\n",
    "\t\t\tnn.ReLU()\n",
    "\t\t)\n",
    "\n",
    "\tdef forward(self, X: torch.Tensor) -> torch.Tensor:\n",
    "\t\treturn self.layer_stack(X)\n",
    "\n",
    "model = FashionMNISTModel(inputs=784, hiddens=16, outputs=10).to(device)\n"
   ]
  },
  {
   "cell_type": "code",
   "execution_count": 25,
   "metadata": {},
   "outputs": [
    {
     "name": "stdout",
     "output_type": "stream",
     "text": [
      "epoch = 1\tloss_per_epoch = 0.277\ttest_loss_per_epoch = 0.416\t accuracy = 85.89%\n",
      "epoch = 10\tloss_per_epoch = 0.271\ttest_loss_per_epoch = 0.405\t accuracy = 86.34%\n",
      "epoch = 20\tloss_per_epoch = 0.268\ttest_loss_per_epoch = 0.420\t accuracy = 86.60%\n",
      "epoch = 30\tloss_per_epoch = 0.261\ttest_loss_per_epoch = 0.438\t accuracy = 86.16%\n",
      "epoch = 40\tloss_per_epoch = 0.256\ttest_loss_per_epoch = 0.447\t accuracy = 85.81%\n",
      "epoch = 50\tloss_per_epoch = 0.251\ttest_loss_per_epoch = 0.469\t accuracy = 86.07%\n"
     ]
    }
   ],
   "source": [
    "loss_fn = nn.CrossEntropyLoss()\n",
    "optimizer = torch.optim.SGD(params=model.parameters(), lr=0.1)\n",
    "epochs = 50\n",
    "\n",
    "for epoch in range(1, 1+epochs):\n",
    "\t#print(f'----- {epoch = } -----')\n",
    "\n",
    "\tloss_per_epoch = 0\n",
    "\tmodel.train()\n",
    "\tfor batch_number, (sample, label) in enumerate(train_dl):\n",
    "\t\tsample, label = sample.to(device), label.to(device)\n",
    "\n",
    "\t\tpreds = model(sample)\n",
    "\t\tloss = loss_fn(preds, label)\n",
    "\t\tloss_per_epoch += loss\n",
    "\n",
    "\t\toptimizer.zero_grad()\n",
    "\t\tloss.backward()\n",
    "\t\toptimizer.step()\n",
    "\n",
    "\tloss_per_epoch /= len(train_dl)\n",
    "\n",
    "\tmodel.eval()\n",
    "\twith torch.inference_mode():\n",
    "\t\ttest_loss_per_epoch = 0\n",
    "\t\taccuracy_per_epoch = 0\n",
    "\t\tfor (sample, label) in test_dl:\n",
    "\t\t\tsample, label = sample.to(device), label.to(device)\n",
    "\n",
    "\t\t\ttest_preds = model(sample)\n",
    "\t\t\ttest_loss = loss_fn(test_preds, label)\n",
    "\t\t\ttest_loss_per_epoch += test_loss\n",
    "\t\t\taccuracy_per_epoch += accuracy_score(\n",
    "\t\t\t\ty_true=label.cpu(), y_pred=test_preds.cpu().argmax(dim=1)\n",
    "\t\t\t)\n",
    "\n",
    "\t\ttest_loss_per_epoch /= len(test_dl)\n",
    "\t\taccuracy_per_epoch /= len(test_dl)\n",
    "\n",
    "\tif epoch%10 == 0 or epoch == 1:\n",
    "\t\tprint(f'{epoch = }\\t{loss_per_epoch = :.3f}\\t{test_loss_per_epoch = :.3f}\\t accuracy = {accuracy_per_epoch*100:.2f}%')\n"
   ]
  },
  {
   "cell_type": "code",
   "execution_count": 21,
   "metadata": {},
   "outputs": [],
   "source": [
    "#! print(test_preds[49:52].argmax(dim=1))\n",
    "#! print(y_test[49:52])\n",
    "\n",
    "#plt.imshow(X_test[50].reshape((28,28)).cpu(), cmap='gray', vmin=0, vmax=1)\n",
    "#print(test_data.classes[y_test[50]])\n",
    "#print(test_data.classes[test_preds[50].argmax()])\n"
   ]
  }
 ],
 "metadata": {
  "kernelspec": {
   "display_name": "venv",
   "language": "python",
   "name": "python3"
  },
  "language_info": {
   "codemirror_mode": {
    "name": "ipython",
    "version": 3
   },
   "file_extension": ".py",
   "mimetype": "text/x-python",
   "name": "python",
   "nbconvert_exporter": "python",
   "pygments_lexer": "ipython3",
   "version": "3.11.2"
  }
 },
 "nbformat": 4,
 "nbformat_minor": 2
}
